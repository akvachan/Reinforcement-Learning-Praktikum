{
 "cells": [
  {
   "cell_type": "code",
   "execution_count": 1,
   "metadata": {
    "colab": {
     "base_uri": "https://localhost:8080/"
    },
    "id": "cwzamGSQ1_qD",
    "outputId": "19c00a57-d3c5-436a-dbfb-de01738fb0b9",
    "pycharm": {
     "name": "#%%\n"
    }
   },
   "outputs": [],
   "source": [
    "# Auskommentieren für eine Installation von gym && gym-bandits in Google Colaboratory\n",
    "#!pip install gym==0.23 gym-bandits==0.0.1 matplotlib==3.7.1"
   ]
  },
  {
   "cell_type": "code",
   "execution_count": 2,
   "metadata": {
    "id": "kOCW36FY1_qH",
    "pycharm": {
     "name": "#%%\n"
    }
   },
   "outputs": [],
   "source": [
    "import os\n",
    "\n",
    "import gym\n",
    "import gym_bandits\n",
    "import numpy as np\n",
    "import matplotlib.pyplot as plt"
   ]
  },
  {
   "cell_type": "code",
   "execution_count": 3,
   "metadata": {},
   "outputs": [
    {
     "name": "stdout",
     "output_type": "stream",
     "text": [
      "ValuesView(├──CartPole: [ v0, v1 ]\n",
      "├──MountainCar: [ v0 ]\n",
      "├──MountainCarContinuous: [ v0 ]\n",
      "├──Pendulum: [ v1 ]\n",
      "├──Acrobot: [ v1 ]\n",
      "├──LunarLander: [ v2 ]\n",
      "├──LunarLanderContinuous: [ v2 ]\n",
      "├──BipedalWalker: [ v3 ]\n",
      "├──BipedalWalkerHardcore: [ v3 ]\n",
      "├──CarRacing: [ v1 ]\n",
      "├──Blackjack: [ v1 ]\n",
      "├──FrozenLake: [ v1 ]\n",
      "├──FrozenLake8x8: [ v1 ]\n",
      "├──CliffWalking: [ v0 ]\n",
      "├──Taxi: [ v3 ]\n",
      "├──Reacher: [ v2 ]\n",
      "├──Pusher: [ v2 ]\n",
      "├──InvertedPendulum: [ v2 ]\n",
      "├──InvertedDoublePendulum: [ v2 ]\n",
      "├──HalfCheetah: [ v2, v3 ]\n",
      "├──Hopper: [ v2, v3 ]\n",
      "├──Swimmer: [ v2, v3 ]\n",
      "├──Walker2d: [ v2, v3 ]\n",
      "├──Ant: [ v2, v3 ]\n",
      "├──Humanoid: [ v2, v3 ]\n",
      "├──HumanoidStandup: [ v2 ]\n",
      "└──MultiarmedBandits: [ v0 ]\n",
      ")\n"
     ]
    }
   ],
   "source": [
    "# show available OpenAI Gym environments\n",
    "from gym import envs\n",
    "print(envs.registry.all())"
   ]
  },
  {
   "cell_type": "code",
   "execution_count": 13,
   "metadata": {
    "id": "qW8Hb5F51_qI",
    "pycharm": {
     "name": "#%%\n"
    }
   },
   "outputs": [],
   "source": [
    "def epsilon_greedy(expParam, Q, arm_count, action_space):\n",
    "    rand = np.random.random()\n",
    "    if rand < expParam:\n",
    "        action = action_space.sample()\n",
    "    else:\n",
    "        #action = action_space.start + np.argmax(Q)\n",
    "        action = np.argmax(Q)\n",
    "    return action\n",
    "\n",
    "# TODO Uebung 2: implement logic\n",
    "def softmax (expParam, Q, arm_count, action_space):    \n",
    "    return\n",
    "\n",
    "# TODO Uebung 2: implement logic\n",
    "def ucb (expParam, Q, arm_count, action_space): \n",
    "    return\n",
    "    \n",
    "# TODO Uebung 3: implement custom exploration method. E.g. decay epsilon over time, or anything else \n",
    "def custom_method (expParam, Q, arm_count, action_space): \n",
    "    # ... \n",
    "    #return action_space.start # + ... \n",
    "    return # + ... "
   ]
  },
  {
   "cell_type": "code",
   "execution_count": 14,
   "metadata": {
    "id": "1i_zTgUp1_qI",
    "pycharm": {
     "name": "#%%\n"
    }
   },
   "outputs": [],
   "source": [
    "# number of rounds (iterations)\n",
    "num_plays = 1000\n",
    "num_experiments = 1000\n",
    "arms = 10\n",
    "\n",
    "exploration_parameters = {\n",
    "    'egreedy':  [0, 0.01, 0.05, 0.1, 0.2, 0.5, 1.0],\n",
    "    'softmax':  [   0.01, 0.05, 0.1, 0.2, 0.5, 1.0, 2, 5, 10, 20, 100],\n",
    "    'ucb':      [0, 0.01, 0.05, 0.1, 0.2, 0.5, 1.0, 2, 5, 10, 20, 100],\n",
    "    'custom': [0]\n",
    "}\n",
    "expMemory = {\n",
    "    'egreedy': {},\n",
    "    'softmax': {},\n",
    "    'ucb': {},\n",
    "    'custom': {}\n",
    "}\n",
    "exploration_methods = {\n",
    "    'egreedy': epsilon_greedy,\n",
    "    'softmax': softmax, \n",
    "    'ucb': ucb, \n",
    "    'custom': custom_method\n",
    "}"
   ]
  },
  {
   "cell_type": "code",
   "execution_count": 9,
   "metadata": {
    "colab": {
     "base_uri": "https://localhost:8080/",
     "height": 1000
    },
    "id": "G_GfEAj41_qJ",
    "outputId": "b5d5d0c6-e54e-4e08-a5d0-c6e917293947",
    "pycharm": {
     "name": "#%%\n"
    },
    "scrolled": true
   },
   "outputs": [
    {
     "ename": "TypeError",
     "evalue": "float() argument must be a string or a real number, not 'ellipsis'",
     "output_type": "error",
     "traceback": [
      "\u001b[1;31m---------------------------------------------------------------------------\u001b[0m",
      "\u001b[1;31mTypeError\u001b[0m                                 Traceback (most recent call last)",
      "Cell \u001b[1;32mIn[9], line 42\u001b[0m\n\u001b[0;32m     39\u001b[0m arm_count[arm] \u001b[38;5;241m+\u001b[39m\u001b[38;5;241m=\u001b[39m \u001b[38;5;241m1\u001b[39m\n\u001b[0;32m     41\u001b[0m \u001b[38;5;66;03m# TODO: recalculate its Q value\u001b[39;00m\n\u001b[1;32m---> 42\u001b[0m \u001b[43mQ\u001b[49m\u001b[43m[\u001b[49m\u001b[43marm\u001b[49m\u001b[43m]\u001b[49m \u001b[38;5;241m=\u001b[39m \u001b[38;5;241m.\u001b[39m\u001b[38;5;241m.\u001b[39m\u001b[38;5;241m.\u001b[39m\n\u001b[0;32m     44\u001b[0m \u001b[38;5;66;03m# memorize rewards per play\u001b[39;00m\n\u001b[0;32m     45\u001b[0m rewards[i] \u001b[38;5;241m=\u001b[39m reward\n",
      "\u001b[1;31mTypeError\u001b[0m: float() argument must be a string or a real number, not 'ellipsis'"
     ]
    }
   ],
   "source": [
    "plots_base_path = os.path.join(os.path.curdir, 'plots')\n",
    "experiments_base_path = os.path.join(plots_base_path, 'experiments')\n",
    "os.makedirs(plots_base_path, exist_ok=True)\n",
    "os.makedirs(experiments_base_path, exist_ok=True)\n",
    "\n",
    "#######################\n",
    "# conduct experiment\n",
    "#######################\n",
    "# exploration_parameters = exp_greedy\n",
    "for method_name in exploration_methods.keys():\n",
    "    \n",
    "    exp_method = exploration_methods[method_name]\n",
    "    \n",
    "    for expParam in exploration_parameters[method_name]:\n",
    "        \n",
    "        print (f\"{exp_method}, param={expParam}\")\n",
    "        \n",
    "        # memorize all rewards of all episodes in rewardMemory for statistic plotting\n",
    "        rewardMemory = []\n",
    "    \n",
    "        for e in range(num_experiments):\n",
    "\n",
    "            # create new instance of bandit environment\n",
    "            env = gym.make(\"BanditTenArmedGaussian-v0\")\n",
    "            env.reset()\n",
    "\n",
    "            # count of number of times an arm was pulled\n",
    "            arm_count = np.zeros(arms)\n",
    "            # Q value => expected average reward\n",
    "            Q = np.zeros(arms)\n",
    "            rewards = np.zeros(num_plays)\n",
    "\n",
    "            for i in range(num_plays):\n",
    "                # select action (exploration/exploitation)\n",
    "                arm = exp_method(expParam=expParam, Q=Q, arm_count=arm_count, action_space=env.action_space)\n",
    "\n",
    "                # get reward/observation/terminalInfo\n",
    "                observation, reward, done, info = env.step(arm)\n",
    "                \n",
    "                # update the count of that arm\n",
    "                arm_count[arm] += 1\n",
    "                \n",
    "                # TODO Uebung 1: recalculate its Q value\n",
    "                Q[arm] = ...\n",
    "                \n",
    "                # memorize rewards per play\n",
    "                rewards[i] = reward\n",
    "\n",
    "            # memorize reward array\n",
    "            rewardMemory.append(rewards)\n",
    "\n",
    "            ###################\n",
    "            # Plotting results\n",
    "            ###################\n",
    "            if e == (num_experiments-1):\n",
    "\n",
    "                means = np.mean(rewardMemory, axis=0)\n",
    "\n",
    "                # plot average reward\n",
    "                plt.figure(figsize=(7,3))\n",
    "                plt.plot(means, label=\"%s(%.2f)\" % (method_name, expParam))\n",
    "                \n",
    "                plt.ylim(0, 2) # limit y axis\n",
    "                plt.title('Avg. Reward per step in experiment %d: %.4f' % (e, sum(means) / num_plays))\n",
    "                plt.ylabel(\"Reward per step\")\n",
    "                plt.xlabel(\"Play\")\n",
    "                plt.legend()\n",
    "                method_path = os.path.join(experiments_base_path, method_name)\n",
    "                os.makedirs(method_path, exist_ok=True)\n",
    "                plt.grid()\n",
    "                plt.savefig(os.path.join(method_path, f'{method_name}_expParam_{expParam}_experiment_{e}.png'))\n",
    "                plt.show()\n",
    "\n",
    "        #expMemory[method_name] |= { expParam: rewardMemory }\n",
    "        expMemory[method_name][expParam] = rewardMemory\n"
   ]
  },
  {
   "cell_type": "code",
   "execution_count": 16,
   "metadata": {
    "colab": {
     "base_uri": "https://localhost:8080/",
     "height": 1000
    },
    "id": "IbydyRaP1_qK",
    "outputId": "7e6675ba-decd-4d79-cf01-4ca463273812",
    "pycharm": {
     "name": "#%%\n"
    },
    "scrolled": false
   },
   "outputs": [
    {
     "name": "stderr",
     "output_type": "stream",
     "text": [
      "No artists with labels found to put in legend.  Note that artists whose label start with an underscore are ignored when legend() is called with no argument.\n"
     ]
    },
    {
     "data": {
      "image/png": "[encoded data removed]",
      "text/plain": [
       "<Figure size 800x500 with 1 Axes>"
      ]
     },
     "metadata": {},
     "output_type": "display_data"
    },
    {
     "name": "stderr",
     "output_type": "stream",
     "text": [
      "No artists with labels found to put in legend.  Note that artists whose label start with an underscore are ignored when legend() is called with no argument.\n"
     ]
    },
    {
     "data": {
      "image/png": "[encoded data removed]",
      "text/plain": [
       "<Figure size 800x500 with 1 Axes>"
      ]
     },
     "metadata": {},
     "output_type": "display_data"
    },
    {
     "name": "stderr",
     "output_type": "stream",
     "text": [
      "No artists with labels found to put in legend.  Note that artists whose label start with an underscore are ignored when legend() is called with no argument.\n"
     ]
    },
    {
     "data": {
      "image/png": "[encoded data removed]",
      "text/plain": [
       "<Figure size 800x500 with 1 Axes>"
      ]
     },
     "metadata": {},
     "output_type": "display_data"
    },
    {
     "ename": "AttributeError",
     "evalue": "'list' object has no attribute 'items'",
     "output_type": "error",
     "traceback": [
      "\u001b[1;31m---------------------------------------------------------------------------\u001b[0m",
      "\u001b[1;31mAttributeError\u001b[0m                            Traceback (most recent call last)",
      "Cell \u001b[1;32mIn[16], line 8\u001b[0m\n\u001b[0;32m      6\u001b[0m _ \u001b[38;5;241m=\u001b[39m plt\u001b[38;5;241m.\u001b[39mfigure(figsize\u001b[38;5;241m=\u001b[39m(\u001b[38;5;241m8\u001b[39m, \u001b[38;5;241m5\u001b[39m))\n\u001b[0;32m      7\u001b[0m plt\u001b[38;5;241m.\u001b[39mset_cmap(\u001b[38;5;124m'\u001b[39m\u001b[38;5;124mSet3\u001b[39m\u001b[38;5;124m'\u001b[39m)\n\u001b[1;32m----> 8\u001b[0m \u001b[38;5;28;01mfor\u001b[39;00m expParam, memory \u001b[38;5;129;01min\u001b[39;00m \u001b[43mexpMemory\u001b[49m\u001b[43m[\u001b[49m\u001b[43mmethod_name\u001b[49m\u001b[43m]\u001b[49m\u001b[38;5;241;43m.\u001b[39;49m\u001b[43mitems\u001b[49m():\n\u001b[0;32m      9\u001b[0m     means \u001b[38;5;241m=\u001b[39m np\u001b[38;5;241m.\u001b[39mmean(memory, axis\u001b[38;5;241m=\u001b[39m\u001b[38;5;241m0\u001b[39m)\n\u001b[0;32m     10\u001b[0m     plt\u001b[38;5;241m.\u001b[39mplot(means, label\u001b[38;5;241m=\u001b[39m\u001b[38;5;124mf\u001b[39m\u001b[38;5;124m'\u001b[39m\u001b[38;5;132;01m{\u001b[39;00mmethod_name\u001b[38;5;132;01m}\u001b[39;00m\u001b[38;5;124m (\u001b[39m\u001b[38;5;132;01m{\u001b[39;00mexpParam\u001b[38;5;132;01m:\u001b[39;00m\u001b[38;5;124m.2f\u001b[39m\u001b[38;5;132;01m}\u001b[39;00m\u001b[38;5;124m)\u001b[39m\u001b[38;5;124m'\u001b[39m)\n",
      "\u001b[1;31mAttributeError\u001b[0m: 'list' object has no attribute 'items'"
     ]
    },
    {
     "data": {
      "text/plain": [
       "<Figure size 800x500 with 0 Axes>"
      ]
     },
     "metadata": {},
     "output_type": "display_data"
    }
   ],
   "source": [
    "\"\"\"\n",
    "Die Mittelwerte über jeweils 1000 Experimente sollen in einem Graph dargestellt werden\n",
    "\"\"\"\n",
    "#sns.set_theme(style='white')\n",
    "for method_name in exploration_methods.keys():\n",
    "    _ = plt.figure(figsize=(8, 5))\n",
    "    plt.set_cmap('Set3')\n",
    "    for expParam, memory in expMemory[method_name].items():\n",
    "        means = np.mean(memory, axis=0)\n",
    "        plt.plot(means, label=f'{method_name} ({expParam:.2f})')\n",
    "\n",
    "    plt.grid()\n",
    "    plt.xlabel('Play')\n",
    "    plt.ylabel('Reward per step')\n",
    "    plt.title('Avg. Reward over all experiments')\n",
    "    plt.legend()\n",
    "    plt.tight_layout()\n",
    "    plt.savefig(os.path.join(plots_base_path, f'{method_name}.png'))\n",
    "    plt.show()"
   ]
  },
  {
   "cell_type": "code",
   "execution_count": 17,
   "metadata": {
    "colab": {
     "base_uri": "https://localhost:8080/",
     "height": 369
    },
    "id": "Pr3SSDv7LP6k",
    "outputId": "4fab34fb-340f-4a22-f128-18940ddc6670",
    "pycharm": {
     "name": "#%%\n"
    }
   },
   "outputs": [
    {
     "ename": "AttributeError",
     "evalue": "'list' object has no attribute 'items'",
     "output_type": "error",
     "traceback": [
      "\u001b[1;31m---------------------------------------------------------------------------\u001b[0m",
      "\u001b[1;31mAttributeError\u001b[0m                            Traceback (most recent call last)",
      "Cell \u001b[1;32mIn[17], line 15\u001b[0m\n\u001b[0;32m     13\u001b[0m \u001b[38;5;28;01mfor\u001b[39;00m method_name \u001b[38;5;129;01min\u001b[39;00m exploration_methods\u001b[38;5;241m.\u001b[39mkeys():\n\u001b[0;32m     14\u001b[0m     x, y \u001b[38;5;241m=\u001b[39m [], []\n\u001b[1;32m---> 15\u001b[0m     \u001b[38;5;28;01mfor\u001b[39;00m expParam, experiments_rewards \u001b[38;5;129;01min\u001b[39;00m \u001b[43mexpMemory\u001b[49m\u001b[43m[\u001b[49m\u001b[43mmethod_name\u001b[49m\u001b[43m]\u001b[49m\u001b[38;5;241;43m.\u001b[39;49m\u001b[43mitems\u001b[49m():\n\u001b[0;32m     16\u001b[0m         x\u001b[38;5;241m.\u001b[39mappend(\u001b[38;5;28mstr\u001b[39m(expParam))\n\u001b[0;32m     17\u001b[0m         play_means \u001b[38;5;241m=\u001b[39m []\n",
      "\u001b[1;31mAttributeError\u001b[0m: 'list' object has no attribute 'items'"
     ]
    },
    {
     "data": {
      "image/png": "[encoded data removed]",
      "text/plain": [
       "<Figure size 1000x500 with 1 Axes>"
      ]
     },
     "metadata": {},
     "output_type": "display_data"
    }
   ],
   "source": [
    "\"\"\"\n",
    "Was sind gute Parameter, was sind schlechte Parameter?\n",
    "Belegen Sie Ihre Aussage mit statistischen Auswertungen.\n",
    "Erstellen Sie einen Scatter-Plot der Ergebnisse aller drei\n",
    "Explorationsverfahren nach folgenden Vorgaben:\n",
    "\n",
    "X-Achse: Explorationsparameter des jeweiligen Explorationsverfahrens\n",
    "\n",
    "Y-Achse: durchschnittlicher Reward pro Schritt in einer Episode der\n",
    "         Länge von 1000 Schritten, gemittelt über 1000 Experimente.\n",
    "\"\"\"\n",
    "_ = plt.figure(figsize=(10, 5))\n",
    "for method_name in exploration_methods.keys():\n",
    "    x, y = [], []\n",
    "    for expParam, experiments_rewards in expMemory[method_name].items():\n",
    "        x.append(str(expParam))\n",
    "        play_means = []\n",
    "        for plays_rewards in experiments_rewards:\n",
    "            play_means.append(np.mean(plays_rewards))\n",
    "        y.append(np.mean(play_means))\n",
    "    plt.plot(x, y, linestyle=\"-\", marker=\"o\", label=method_name)\n",
    "\n",
    "plt.grid()\n",
    "plt.xlabel('Exploration parameters')\n",
    "plt.ylabel('Average reward per step')\n",
    "plt.title('Results for different exploration settings')\n",
    "plt.legend()\n",
    "plt.tight_layout()\n",
    "plt.savefig(os.path.join(plots_base_path, 'aggregated.png'))\n",
    "plt.show()"
   ]
  },
  {
   "cell_type": "code",
   "execution_count": null,
   "metadata": {
    "id": "tO33JZiDLP6k",
    "pycharm": {
     "name": "#%%\n"
    }
   },
   "outputs": [],
   "source": []
  },
  {
   "cell_type": "code",
   "execution_count": null,
   "metadata": {
    "id": "jUxGiQ7LLP6k",
    "pycharm": {
     "name": "#%%\n"
    }
   },
   "outputs": [],
   "source": []
  },
  {
   "cell_type": "code",
   "execution_count": null,
   "metadata": {
    "id": "LBYy-wn2LP6l"
   },
   "outputs": [],
   "source": []
  },
  {
   "cell_type": "code",
   "execution_count": null,
   "metadata": {
    "id": "J8fVc4yMLP6l"
   },
   "outputs": [],
   "source": []
  },
  {
   "cell_type": "code",
   "execution_count": null,
   "metadata": {
    "id": "gUNxoLPcLP6l"
   },
   "outputs": [],
   "source": []
  }
 ],
 "metadata": {
  "colab": {
   "collapsed_sections": [],
   "name": "nArmedBandit Musterlösung.ipynb",
   "provenance": []
  },
  "interpreter": {
   "hash": "36442c8c1d97564b7b3ebb007922fd86df91858b974d8cc31b9d3cd42ab100c4"
  },
  "kernelspec": {
   "display_name": "Python 3 (ipykernel)",
   "language": "python",
   "name": "python3"
  },
  "language_info": {
   "codemirror_mode": {
    "name": "ipython",
    "version": 3
   },
   "file_extension": ".py",
   "mimetype": "text/x-python",
   "name": "python",
   "nbconvert_exporter": "python",
   "pygments_lexer": "ipython3",
   "version": "3.7.9"
  }
 },
 "nbformat": 4,
 "nbformat_minor": 1
}
